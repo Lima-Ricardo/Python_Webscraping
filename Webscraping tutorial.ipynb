{
 "cells": [
  {
   "cell_type": "markdown",
   "id": "de95feab",
   "metadata": {},
   "source": [
    "Resquisitos:\n",
    "\n",
    "Criar um linkedin fake\n",
    "\n",
    "Instalar o selenium\n",
    "\n",
    "Instalar o webdriver Manager"
   ]
  },
  {
   "cell_type": "markdown",
   "id": "4225abe4",
   "metadata": {},
   "source": [
    "pip install selenium"
   ]
  },
  {
   "cell_type": "markdown",
   "id": "2956caa1",
   "metadata": {},
   "source": [
    "pip install webdriver-manager"
   ]
  },
  {
   "cell_type": "code",
   "execution_count": 1,
   "id": "3625e23e",
   "metadata": {},
   "outputs": [],
   "source": [
    "from selenium import webdriver #Biblioteca de automação\n",
    "from selenium.webdriver.common.by import By #Função utilizada pra achar os componentes html \n",
    "from webdriver_manager.firefox import GeckoDriverManager #Biblioteca específica para quem vai utilizar o navegador firefox\n",
    "from selenium.webdriver.firefox.service import Service #Identifica a versão do seu navegador e para o selenium funcionar corretamente\n",
    "from selenium.webdriver.common.keys import Keys #Função do selenium que automatiza a entrada de caracteres\n",
    "from bs4 import BeautifulSoup # Biblioteca que faz a coleta dos dados\n",
    "from time import sleep # Usado para deixar o programa o mais humano possível evitando o banimento de ip\n",
    "import csv # usado para gravar os resultados do scrape"
   ]
  },
  {
   "cell_type": "code",
   "execution_count": 2,
   "id": "4dbc3db9",
   "metadata": {},
   "outputs": [
    {
     "name": "stderr",
     "output_type": "stream",
     "text": [
      "[WDM] - Downloading: 16.2kB [00:00, 16.6MB/s]                   \n"
     ]
    }
   ],
   "source": [
    "#Passo 01 Instalando configurando o webdriver do firefox\n",
    "\n",
    "att = Service(GeckoDriverManager().install())\n",
    "driver = webdriver.Firefox(service=att)\n",
    "\n",
    "print('- Passo 01 concluído.')"
   ]
  },
  {
   "cell_type": "code",
   "execution_count": null,
   "id": "2e01fb1f-0aab-4a54-83f0-6b1cc9dddbd3",
   "metadata": {},
   "outputs": [],
   "source": [
    "#Passo 1.1: Abrindo a página de login no linkedin\n",
    "\n",
    "#Definindo a URL\n",
    "url = 'https://www.linkedin.com/login' \n",
    "\n",
    "#Usando o navegador o Firefox para acessar a url com método driver.get()\n",
    "driver.get(url)\n",
    "sleep(3)\n",
    "\n",
    "print('- Passo 1.1 concluído.')"
   ]
  },
  {
   "cell_type": "markdown",
   "id": "f97c723e-5264-48b5-a436-238ea6efd820",
   "metadata": {},
   "source": [
    "Você deve criar um arquivo em txt contendo o email se senha do linkedin fake"
   ]
  },
  {
   "cell_type": "code",
   "execution_count": 8,
   "id": "25affe19-bb97-45e5-941f-03e8ff7634ce",
   "metadata": {},
   "outputs": [],
   "source": [
    "# 1.2 Buscando o arquivo no sistema que contém a senha e o email do linkedin fake\n",
    "\n",
    "# acessando um arquivo em txt que contém o email e a senha do linkedin fake\n",
    "login = open(\"credenciais.txt\", encoding=\"utf-8\") \n",
    "\n",
    "# Alocando a leitura do txt em uma váriavel e utilizando o método .readlines()\n",
    "line = login.readlines() \n",
    "\n",
    "# Lendo a posicção[0] do meu txt que contém o email \n",
    "email = line[0]   \n",
    "\n",
    "# Lendo a posição[1] do meu txt que contém o a senha \n",
    "senha = line[1] \n",
    "\n",
    "print('- Passo 1.2 concluído.')"
   ]
  },
  {
   "cell_type": "code",
   "execution_count": null,
   "id": "a209d1c7-9bed-43a7-9f4d-187a190fd1a7",
   "metadata": {},
   "outputs": [],
   "source": [
    "# 1.3 Buscando pelo campo de email e fazendo a inserção\n",
    "\n",
    "# Mandando o selenium buscar pelo campo de inserção de email com o método find_element()\n",
    "field_email = driver.find_element(By.ID,'username')\n",
    "sleep(2)\n",
    "\n",
    "# Mandando o selenium inserir o email com método send_keys()\n",
    "field_email.send_keys(email)\n",
    "sleep(2)\n",
    "\n",
    "print('- Passo 1.3 concluído.')"
   ]
  },
  {
   "cell_type": "code",
   "execution_count": 3,
   "id": "074775c9",
   "metadata": {},
   "outputs": [],
   "source": [
    "#1.4 Buscando pelo campo de senha e fazendo a inserção\n",
    "\n",
    "# Mandando o selenium bucar pelo campo de inserção da senha senha com o método find_element()\n",
    "field_password = driver.find_element(By.NAME, 'session_password')\n",
    "sleep(2)\n",
    "\n",
    "# Mandando o selenium inserir a senha no campo de senha  com o método .send_keys()\n",
    "field_password.send_keys(senha)\n",
    "sleep(3)\n",
    "\n",
    "print('- Passo 1.4 concluído.')"
   ]
  },
  {
   "cell_type": "code",
   "execution_count": null,
   "id": "643cb3df-186c-4bc2-9314-a549c85e908f",
   "metadata": {},
   "outputs": [],
   "source": [
    "# 1.5 Buscando pelo botão de login\n",
    "\n",
    "# Mandando o selenium procurar pelo botão ENTRAR com o find_element(By.XPATH)\n",
    "button_enter = driver.find_element(By.XPATH,'/html/body/div/main/div[2]/div[1]/form/div[3]/button')\n",
    "sleep(2)\n",
    "\n",
    "# Mandando o selenium clicar no botão entrar\n",
    "button_enter.click()\n",
    "sleep(2)\n",
    "\n",
    "print('- Passo 1.5 concluído.')"
   ]
  },
  {
   "cell_type": "code",
   "execution_count": null,
   "id": "97443fea-f788-459b-a172-b40b0db6a30a",
   "metadata": {},
   "outputs": [],
   "source": [
    "#Passo 02 usando o campo de busca dentro do linkedin\n",
    "\n",
    "# Localizando o campo de busca via xpath\n",
    "search_field = driver.find_element(By.XPATH,'/html/body/div[6]/header/div/div/div/div[1]/input')\n",
    "sleep(3)\n",
    "\n",
    "print('- Passo 02 concluído.')"
   ]
  },
  {
   "cell_type": "code",
   "execution_count": null,
   "id": "bb5aae73-ba0c-4ad6-854e-cbe403fc99c9",
   "metadata": {},
   "outputs": [],
   "source": [
    "# 2.1 Inserindo os dados no campo de busca através do input\n",
    "search_query = input('Qual perfil você quer fazer o scrape? ')\n",
    "search_field.send_keys(search_query)\n",
    "sleep(3)\n"
   ]
  },
  {
   "cell_type": "code",
   "execution_count": 4,
   "id": "2049bd42",
   "metadata": {},
   "outputs": [
    {
     "name": "stdin",
     "output_type": "stream",
     "text": [
      "Qual perfil você quer fazer o scrape?  engenheiro de dados pessoas\n"
     ]
    }
   ],
   "source": [
    "# 2.2: Trazendo os resultados\n",
    "search_field.send_keys(Keys.RETURN) #confirmando a inserção com Keys.RETURN que simula o botão enter do teclado\n",
    "\n",
    "print('- Passo 2.2 concluído.')"
   ]
  },
  {
   "cell_type": "code",
   "execution_count": 5,
   "id": "49631e06",
   "metadata": {},
   "outputs": [],
   "source": [
    "#Passo 03 Começando o scrape\n",
    "\n",
    "# Definindo uma função que irá navegar entre os perfis e apendar os resultados em uma lista vazia\n",
    "def GetURL():\n",
    "    page_source = BeautifulSoup(driver.page_source)\n",
    "    profiles = page_source.find_all('a', class_ = 'app-aware-link') \n",
    "    all_profile_URL = []\n",
    "    \n",
    "    # Laço for que irá percorrer os perfis e buscará pelo atributo href que é uma tag do html onde ficam os links    \n",
    "    for profile in profiles:\n",
    "        profile_URL = profile.get('href')\n",
    "\n",
    "        # Condição que virifica se a lista ja possuí aquele perfil, caso contrário ela adiciona o perfil á lista        \n",
    "        if profile_URL not in all_profile_URL:\n",
    "            all_profile_URL.append(profile_URL)\n",
    "    return all_profile_URL\n",
    "\n",
    "print('- Passo 3.1 concluído')"
   ]
  },
  {
   "cell_type": "code",
   "execution_count": 6,
   "id": "1624e6c1",
   "metadata": {},
   "outputs": [
    {
     "name": "stdin",
     "output_type": "stream",
     "text": [
      "Em quantas páginas você quer fazer o scrape?:  1\n"
     ]
    },
    {
     "name": "stdout",
     "output_type": "stream",
     "text": [
      "- Passo 3.1 concluído\n"
     ]
    }
   ],
   "source": [
    "# 3.1 definindo a quantidade de páginas que o BeaultifulSoup fará o scrape\n",
    "\n",
    "# Input para inserir a quantidade de páginas que o programa irá percorrer\n",
    "input_page = int(input('Em quantas páginas você quer fazer o scrape?: '))\n",
    "\n",
    "URLs_all_page = []\n",
    "\n",
    "# Laço for usado para percorrer a quantidade de páginas que o usuário solicitou via input\n",
    "for page in range(input_page):\n",
    "    URLs_one_page = GetURL()\n",
    "    sleep(2)\n",
    "    \n",
    "    #Fazendo o papel de scroll do mouse indo ate o fim da página\n",
    "    driver.execute_script('window.scrollTo(0, document.body.scrollHeight);') \n",
    "    sleep(3)\n",
    "    \n",
    "    #localizando o botão de trocar de página via método By.CLASS_NAME\n",
    "    next_button = driver.find_element(By.CLASS_NAME, \"artdeco-pagination__button--next\") \n",
    "    \n",
    "    # Indicando a posição real do botão dentro da página do linkedin e avançando para a proxima página ex: 1, 2, 3 etc.\n",
    "    driver.execute_script(\"arguments[0].click();\", next_button)\n",
    "    \n",
    "    URLs_all_page = URLs_all_page + URLs_one_page\n",
    "    sleep(3)\n",
    "\n",
    "print('- Passo 3.1 concluído')"
   ]
  },
  {
   "cell_type": "code",
   "execution_count": 7,
   "id": "6a47b64a",
   "metadata": {},
   "outputs": [
    {
     "name": "stdout",
     "output_type": "stream",
     "text": [
      "- Acessnado o perfil:  https://www.linkedin.com/feed/?nis=true&\n",
      "- Acessnado o perfil:  https://www.linkedin.com/mynetwork/?\n",
      "- Acessnado o perfil:  https://www.linkedin.com/jobs/?\n",
      "- Acessnado o perfil:  https://www.linkedin.com/messaging/?\n",
      "- Acessnado o perfil:  https://www.linkedin.com/notifications/?\n",
      "- Finalizado!\n"
     ]
    }
   ],
   "source": [
    "# Passo 4 gravando os resultados\n",
    "\n",
    "# Gravando os dados em um aqruivo .CSV\n",
    "\n",
    "with open('output.csv', 'w',  newline = '') as file_output:\n",
    "    headers = ['Nome', 'Profissão', 'Localização', 'URL_Perfil']\n",
    "    writer = csv.DictWriter(file_output, delimiter=',', lineterminator='\\n',fieldnames=headers)\n",
    "    writer.writeheader()\n",
    "    for linkedin_URL in URLs_all_page:\n",
    "        driver.get(linkedin_URL)\n",
    "        print('- Acessnado o perfil: ', linkedin_URL)\n",
    "        sleep(3)\n",
    "        page_source = BeautifulSoup(driver.page_source, \"html.parser\")\n",
    "        info_div = page_source.find('div',{'class':'flex-1 mr5'})\n",
    "        try:\n",
    "            name = info_div.find('li', class_='inline t-24 t-black t-normal break-words').get_text().strip() #Remove unnecessary characters \n",
    "            print('--- Profile name is: ', name)\n",
    "            location = info_div.find('li', class_='t-16 t-black t-normal inline-block').get_text().strip() #Remove unnecessary characters \n",
    "            print('--- Profile location is: ', location)\n",
    "            title = info_div.find('h2', class_='mt1 t-18 t-black t-normal break-words').get_text().strip()\n",
    "            print('--- Profile title is: ', title)\n",
    "            writer.writerow({headers[0]:name, headers[1]:location, headers[2]:title, headers[3]:linkedin_URL})\n",
    "            print('\\n')\n",
    "        except:\n",
    "            pass\n",
    "\n",
    "print('- Finalizado!')"
   ]
  },
  {
   "cell_type": "code",
   "execution_count": null,
   "id": "8f532191",
   "metadata": {},
   "outputs": [],
   "source": []
  }
 ],
 "metadata": {
  "celltoolbar": "Raw Cell Format",
  "kernelspec": {
   "display_name": "Python 3 (ipykernel)",
   "language": "python",
   "name": "python3"
  },
  "language_info": {
   "codemirror_mode": {
    "name": "ipython",
    "version": 3
   },
   "file_extension": ".py",
   "mimetype": "text/x-python",
   "name": "python",
   "nbconvert_exporter": "python",
   "pygments_lexer": "ipython3",
   "version": "3.9.12"
  },
  "widgets": {
   "application/vnd.jupyter.widget-state+json": {
    "state": {},
    "version_major": 2,
    "version_minor": 0
   }
  }
 },
 "nbformat": 4,
 "nbformat_minor": 5
}
